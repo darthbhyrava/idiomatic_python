{
 "cells": [
  {
   "cell_type": "code",
   "execution_count": 18,
   "metadata": {},
   "outputs": [],
   "source": [
    "for user in get_all_users():\n",
    "    print ('Checking {}'.format(user))\n",
    "    for email_address in user.get_all_email_addresses():\n",
    "        if email_is_malformed(email_address):\n",
    "            print ('Has a malformed email address!')\n",
    "            break\n",
    "    else :\n",
    "        print ('All email addresses are valid!')"
   ]
  },
  {
   "cell_type": "code",
   "execution_count": 5,
   "metadata": {},
   "outputs": [
    {
     "name": "stdout",
     "output_type": "stream",
     "text": [
      "[1]\n",
      "[1, 2]\n",
      "[1, 2, 3]\n"
     ]
    }
   ],
   "source": [
    "def f(a, L=[]):\n",
    "    L.append(a)\n",
    "    return L\n",
    "print(f(1))\n",
    "print(f(2))\n",
    "print(f())"
   ]
  },
  {
   "cell_type": "code",
   "execution_count": 6,
   "metadata": {},
   "outputs": [
    {
     "name": "stdout",
     "output_type": "stream",
     "text": [
      "[1]\n",
      "[2]\n",
      "[3]\n"
     ]
    }
   ],
   "source": [
    "# If you don't want the default to be shared between subsequent\n",
    "# calls, you can write the function like this instead:\n",
    "def f(a, L=None):\n",
    "    if L is None:\n",
    "        L = []\n",
    "    L.append(a)\n",
    "    return L\n",
    "print (f(1))\n",
    "print (f(2))\n",
    "print (f(3))"
   ]
  },
  {
   "cell_type": "code",
   "execution_count": 7,
   "metadata": {},
   "outputs": [
    {
     "name": "stdout",
     "output_type": "stream",
     "text": [
      "45\n"
     ]
    }
   ],
   "source": [
    "# sum_integers_args_3.py\n",
    "def my_sum(*args):\n",
    "    result = 0\n",
    "    for x in args:\n",
    "        result += x\n",
    "    return result\n",
    "\n",
    "list1 = [1, 2, 3]\n",
    "list2 = [4, 5]\n",
    "list3 = [6, 7, 8, 9]\n",
    "\n",
    "print(my_sum(*list1, *list2, *list3))"
   ]
  },
  {
   "cell_type": "code",
   "execution_count": 9,
   "metadata": {},
   "outputs": [
    {
     "name": "stdout",
     "output_type": "stream",
     "text": [
      "RealPythonIsGreat!\n"
     ]
    }
   ],
   "source": [
    "def concatenate(**kwargs):\n",
    "    result = \"\"\n",
    "    # Iterating over the keys of the Python kwargs dictionary\n",
    "    for arg in kwargs.values():\n",
    "        result += arg\n",
    "    return result\n",
    "\n",
    "print(concatenate(a=\"Real\", b=\"Python\", c=\"Is\", d=\"Great\", e=\"!\"))"
   ]
  },
  {
   "cell_type": "code",
   "execution_count": 10,
   "metadata": {},
   "outputs": [
    {
     "name": "stdout",
     "output_type": "stream",
     "text": [
      "['c', 'd', 'e']\n",
      "['b', 'c', 'd']\n",
      "['a', 'b', 'c']\n"
     ]
    }
   ],
   "source": [
    "some_list = ['a', 'b', 'c', 'd', 'e']\n",
    "(first, second, *rest) = some_list\n",
    "print (rest)\n",
    "(first, *middle, last) = some_list\n",
    "print (middle)\n",
    "(*head, penultimate, last) = some_list\n",
    "print (head)"
   ]
  },
  {
   "cell_type": "code",
   "execution_count": 11,
   "metadata": {},
   "outputs": [],
   "source": [
    "# Non-idiomatic way\n",
    "configuration = {}\n",
    "log_severity = None\n",
    "if 'severity' in configuration:\n",
    "    log_severity = configuration['severity']\n",
    "else :\n",
    "    log_severity = 'Info'"
   ]
  },
  {
   "cell_type": "code",
   "execution_count": 12,
   "metadata": {},
   "outputs": [],
   "source": [
    "# Idiomatic\n",
    "log_severity = configuration.get('severity', 'Info')"
   ]
  },
  {
   "cell_type": "code",
   "execution_count": 14,
   "metadata": {},
   "outputs": [],
   "source": [
    "# non-idiomatic\n",
    "user_email = {}\n",
    "for user in users_list:\n",
    "    if user.email:\n",
    "        user_email[user.name] = user.email\n",
    "\n",
    "# idiomatic\n",
    "user_email = {user.name: user.email for user in users_list if user.email}"
   ]
  },
  {
   "cell_type": "code",
   "execution_count": 15,
   "metadata": {},
   "outputs": [],
   "source": [
    "# idiomatic formatting\n",
    "def get_formatted_user_info(user):\n",
    "    # Clear and concise. At a glance I can tell exactly what\n",
    "    # the output should be.\n",
    "    output = 'Name: {user.name}, Age: {user.age}, Sex: {user.sex}'.format(user=user)\n",
    "    return output"
   ]
  },
  {
   "cell_type": "code",
   "execution_count": 4,
   "metadata": {},
   "outputs": [
    {
     "data": {
      "text/plain": [
       "True"
      ]
     },
     "execution_count": 4,
     "metadata": {},
     "output_type": "execute_result"
    }
   ],
   "source": [
    "## Harmful Class Naming Conventions\n",
    "class Foo():\n",
    "    def __init__(self):\n",
    "        self.id = 8\n",
    "        self.value = self.get_value()\n",
    "    def get_value(self):\n",
    "        pass\n",
    "    def should_destroy_earth(self):\n",
    "        return self.id == 42\n",
    "    \n",
    "class Baz(Foo):\n",
    "    def get_value(self, some_new_parameter):\n",
    "        \"\"\"Since 'get_value' is called from the base class's\n",
    "        __init__ method and the base class definition doesn't\n",
    "        take a parameter, trying to create a Baz instance will\n",
    "        fail.\"\"\"\n",
    "    pass\n",
    "\n",
    "class Qux(Foo):\n",
    "    \"\"\"We aren't aware of Foo's internals, and we innocently\n",
    "    create an instance attribute named 'id' and set it to 42.\n",
    "    This overwrites Foo's id attribute and we inadvertently\n",
    "    blow up the earth.\n",
    "    \"\"\"\n",
    "    def __init__(self):\n",
    "        super(Qux, self).__init__()\n",
    "        self.id = 42\n",
    "        # No relation to Foo's id, purely coincidental\n",
    "\n",
    "q = Qux()\n",
    "# b = Baz() # Raises 'TypeError'\n",
    "q.should_destroy_earth() # returns True\n",
    "q.id == 42 # returns True"
   ]
  },
  {
   "cell_type": "code",
   "execution_count": 10,
   "metadata": {},
   "outputs": [
    {
     "name": "stdout",
     "output_type": "stream",
     "text": [
      "False\n"
     ]
    },
    {
     "data": {
      "text/plain": [
       "True"
      ]
     },
     "execution_count": 10,
     "metadata": {},
     "output_type": "execute_result"
    }
   ],
   "source": [
    "# Correct Inheritance Conventions\n",
    "# import pytest \n",
    "\n",
    "class Foo():\n",
    "    def __init__(self):\n",
    "        \"\"\"Since 'id' is of vital importance to us, we don't\n",
    "        want a derived class accidentally overwriting it. We'll\n",
    "        prepend with double underscores to introduce name\n",
    "        mangling.\n",
    "        \"\"\"\n",
    "        self.__id = 8\n",
    "        self.value = self.__get_value() # Our 'private copy'\n",
    "    def get_value(self):\n",
    "        pass\n",
    "    def should_destroy_earth(self):\n",
    "        return self.__id == 42\n",
    "    # Here, we're storing an 'private copy' of get_value,\n",
    "    # and assigning it to '__get_value'. Even if a derived\n",
    "    # class overrides get_value is a way incompatible with\n",
    "    # ours, we're fine\n",
    "    __get_value = get_value\n",
    "class Baz(Foo):\n",
    "    def get_value(self, some_new_parameter):\n",
    "        pass\n",
    "class Qux(Foo):\n",
    "    def __init__(self):\n",
    "        \"\"\"Now when we set 'id' to 42, it's not the same 'id'\n",
    "        that 'should_destroy_earth' is concerned with. In fact,\n",
    "        if you inspect a Qux object, you'll find it doesn't\n",
    "        have an __id attribute. So we can't mistakenly change\n",
    "        Foo's __id attribute even if we wanted to.\n",
    "        \"\"\"\n",
    "        self.id = 42\n",
    "        # No relation to Foo's id, purely coincidental\n",
    "        super(Qux, self).__init__()\n",
    "q = Qux()\n",
    "b = Baz() # works fine now\n",
    "print(q.should_destroy_earth()) # returns False\n",
    "q.id == 42 # returns True\n",
    "# with pytest.raises(AttributeError):\n",
    "#     getattr(q, '__id')"
   ]
  },
  {
   "cell_type": "code",
   "execution_count": 12,
   "metadata": {},
   "outputs": [
    {
     "name": "stdout",
     "output_type": "stream",
     "text": [
      "<__main__.Point object at 0x7fd55cec8cf8>\n",
      "1, 2\n"
     ]
    }
   ],
   "source": [
    "# wrong\n",
    "class Point():\n",
    "    def __init__(self, x, y):\n",
    "        self.x = x\n",
    "        self.y = y\n",
    "p = Point(1, 2)\n",
    "print(p)\n",
    "\n",
    "# right\n",
    "class Point():\n",
    "    def __init__(self, x, y):\n",
    "        self.x = x\n",
    "        self.y = y\n",
    "    def __str__(self):\n",
    "        return '{0}, {1}'.format(self.x, self.y)\n",
    "p = Point(1, 2)\n",
    "print(p)"
   ]
  },
  {
   "cell_type": "code",
   "execution_count": 13,
   "metadata": {},
   "outputs": [],
   "source": [
    "# wrong\n",
    "unique_surnames = []\n",
    "for surname in employee_surnames:\n",
    "    if surname not in unique_surnames:\n",
    "        unique_surnames.append(surname)\n",
    "        \n",
    "# right\n",
    "unique_surnames = set(employee_surnames)"
   ]
  },
  {
   "cell_type": "code",
   "execution_count": 14,
   "metadata": {},
   "outputs": [],
   "source": [
    "# set comprehension\n",
    "\n",
    "# wrong\n",
    "users_first_names = set()\n",
    "for user in users:\n",
    "    users_first_names.add(user.first_name)\n",
    "    \n",
    "# right\n",
    "users_first_name = {user.first_name for user in users}"
   ]
  },
  {
   "cell_type": "code",
   "execution_count": 15,
   "metadata": {},
   "outputs": [],
   "source": [
    "# using sets\n",
    "\n",
    "# wrong\n",
    "def get_both_popular_and_active_users():\n",
    "    # Assume the following two functions each return a\n",
    "    # list of user names\n",
    "    most_popular_users = get_list_of_most_popular_users()\n",
    "    most_active_users = get_list_of_most_active_users()\n",
    "    popular_and_active_users = []\n",
    "    for user in most_active_users:\n",
    "        if user in most_popular_users:\n",
    "    popular_and_active_users.append(user)\n",
    "    return popular_and_active_users\n",
    "\n",
    "# right\n",
    "def get_both_popular_and_active_users():\n",
    "    # Assume the following two functions each return a\n",
    "    # list of user names\n",
    "    return (set(get_list_of_most_active_users()) & set(get_list_of_most_popular_users()))"
   ]
  },
  {
   "cell_type": "code",
   "execution_count": 16,
   "metadata": {},
   "outputs": [],
   "source": [
    "## Generators\n",
    "# - Provides a way to iterate over an essentially sequence\n",
    "# - Provides an interface to a sequence that’s incredibly time-taking to calculate\n",
    "\n",
    "# Wrong\n",
    "def get_twitter_stream_for_keyword(keyword):\n",
    "    imaginary_twitter_api = ImaginaryTwitterAPI()\n",
    "    if imaginary_twitter_api.can_get_stream_data(keyword):\n",
    "        return imaginary_twitter_api.get_stream(keyword)\n",
    "current_stream = get_twitter_stream_for_keyword('#jeffknupp')\n",
    "for tweet in current_stream:\n",
    "    process_tweet(tweet)\n",
    "def get_list_of_incredibly_complex_calculation_results(data):\n",
    "    return [first_incredibly_long_calculation(data), \n",
    "            second_incredibly_long_calculation(data), \n",
    "            third_incredibly_long_calculation(data),]\n",
    "\n",
    "# Right\n",
    "def get_twitter_stream_for_keyword(keyword):\n",
    "    \"\"\"Now, 'get_twitter_stream_for_keyword' is a generator\n",
    "    and will continue to generate Iterable pieces of data one\n",
    "    at a time until 'can_get_stream_data(user)' is \n",
    "    False (which may be never).\n",
    "    \"\"\"\n",
    "    imaginary_twitter_api = ImaginaryTwitterAPI()\n",
    "    while imaginary_twitter_api.can_get_stream_data(keyword):\n",
    "        yield imaginary_twitter_api.get_stream(keyword)\n",
    "    # Because it is a generator, we can sit in this loop till the\n",
    "    # client wants to break out\n",
    "    \n",
    "for tweet in get_twitter_stream_for_keyword('#jeffknupp'):\n",
    "    if got_stop_signal:\n",
    "        break\n",
    "    process_tweet(tweet)\n",
    "    \"\"\"A simple example to be sure, but now when the client\n",
    "    code iterates over the call to 'get_list_of_incredibly_complex_calculation_results',\n",
    "    we only do as much work as necessary to generate the\n",
    "    current item.\n",
    "    \"\"\"\n",
    "    ..."
   ]
  },
  {
   "cell_type": "code",
   "execution_count": 18,
   "metadata": {},
   "outputs": [],
   "source": [
    "## prefer generator expression to a list comprehension\n",
    "# generators generate each element 'on-demand'\n",
    "# opposed to lists which generate all elements beforehand\n",
    "\n",
    "# wrong\n",
    "for uppercase_name in [name.upper() for name in get_all_usernames()]\n",
    "    process_normalized_username(uppercase_name)\n",
    "    \n",
    "# right\n",
    "for uppercase_name in (name.upper() for name in get_all_usernames()):\n",
    "    process_normalized_username(uppercase_name)"
   ]
  },
  {
   "cell_type": "code",
   "execution_count": 21,
   "metadata": {},
   "outputs": [],
   "source": [
    "# context managers (objects used with 'with' statement)\n",
    "\n",
    "# wrong\n",
    "file_handle = open(path_to_file, 'r')\n",
    "for line in file_handle.readlines():\n",
    "    if raise_exception(line):\n",
    "        print('No! An Exception!')\n",
    "        \n",
    "# right\n",
    "with open(path_to_file, 'r') as file_handle:\n",
    "    for line in file_handle:\n",
    "        if raise_exception(line):\n",
    "            print('No! An Exception!')"
   ]
  },
  {
   "cell_type": "code",
   "execution_count": 23,
   "metadata": {},
   "outputs": [
    {
     "name": "stdout",
     "output_type": "stream",
     "text": [
      "Fido the dog is 10 years old\n",
      "Fido the dog is 10 years old.\n"
     ]
    }
   ],
   "source": [
    "# use tuples to unpack data\n",
    "\n",
    "# wrong\n",
    "csv_list = ['dog', 'Fido', 10]\n",
    "animal = csv_list[0]\n",
    "name = csv_list[1]\n",
    "age = csv_list[2]\n",
    "output = (f'{name} the {animal} is {age} years old')\n",
    "print(output)\n",
    "\n",
    "# right\n",
    "csv_list = ['dog', 'Fido', 10]\n",
    "(animal, name, age) = csv_list\n",
    "output = (f'{name} the {animal} is {age} years old.')\n",
    "print(output)"
   ]
  },
  {
   "cell_type": "code",
   "execution_count": 25,
   "metadata": {},
   "outputs": [],
   "source": [
    "# use _ as a placeholder\n",
    "# wrong\n",
    "(name, age, tmp, tmp2) = get_user_info(user)\n",
    "if age > 21:\n",
    "    output = (f'{name} can drink!')\n",
    "# right\n",
    "(name, age, _, _) = get_user_info(user)\n",
    "if age > 21:\n",
    "    output = (f'{name} can drink!')"
   ]
  },
  {
   "cell_type": "code",
   "execution_count": 26,
   "metadata": {},
   "outputs": [],
   "source": [
    "# Using 'sys.exit' in executable scripts \n",
    "\n",
    "#wrong\n",
    "if __name__ == '__main__':\n",
    "    import sys\n",
    "    if len(sys.argv) > 1:\n",
    "        argument = sys.argv[1]\n",
    "        result = do_stuff(argument)\n",
    "        if result:\n",
    "            do_stuff_with_result(result)\n",
    "            \n",
    "# right\n",
    "def main():\n",
    "    import sys\n",
    "    if len(sys.argv) < 2:\n",
    "        sys.exit('You forgot to pass an argument')\n",
    "    argument = sys.argv[1]\n",
    "    result = do_stuff(argument)\n",
    "    if not result:\n",
    "        sys.exit(1)\n",
    "    do_stuff_with_result(result)\n",
    "    return 0\n",
    "if __name__ == '__main__':\n",
    "    sys.exit(main())"
   ]
  },
  {
   "cell_type": "code",
   "execution_count": 27,
   "metadata": {},
   "outputs": [],
   "source": [
    "# Use pattern to have a file function both as a module\n",
    "# and as a stand alone script\n",
    "\n",
    "# wrong\n",
    "import os\n",
    "import sys\n",
    "FIRST_NUMBER = float(sys.argv[1])\n",
    "SECOND_NUMBER = float(sys.argv[2])\n",
    "def divide(a, b):\n",
    "    return a/b\n",
    "if SECOND_NUMBER != 0:\n",
    "    print(divide(FIRST_NUMBER, SECOND_NUMBER))\n",
    "\n",
    "# right\n",
    "import os\n",
    "import sys\n",
    "def divide(a, b):\n",
    "    return a/b\n",
    "if __name__ = '__main__':\n",
    "    first_number = float(sys.argv[1])\n",
    "    second_number = float(sys.argv[2])\n",
    "    if second_number != 0:\n",
    "        print(divide(first_number, second_number))"
   ]
  },
  {
   "cell_type": "code",
   "execution_count": 28,
   "metadata": {},
   "outputs": [],
   "source": [
    "# wrong\n",
    "from foo import *\n",
    "\n",
    "# right\n",
    "from foo import (bar, baz, qux, quux, quuux) # or\n",
    "import foo"
   ]
  },
  {
   "cell_type": "code",
   "execution_count": null,
   "metadata": {},
   "outputs": [],
   "source": [
    "## using os.path\n",
    "\n",
    "# wrong\n",
    "from datetime import date\n",
    "import os\n",
    "filename_to_archive = 'test.txt'\n",
    "new_filename = 'test.bak'\n",
    "target_directory = './archives'\n",
    "today = date.today()\n",
    "os.mkdir('./archives/' + str(today))\n",
    "os.rename(filename_to_archive,\n",
    "          target_directory + '/' + str(today) + '/' + ... )\n",
    "\n",
    "# right\n",
    "from datetime import date\n",
    "import os\n",
    "current_directory = os.getcwd()\n",
    "filename_to_archive = 'test.txt'\n",
    "new_filename = os.path.splitext(filename_to_archive)[0] + '.bak'\n",
    "target_directory = os.path.join(current_directory, 'archives')\n",
    "today = date.today()\n",
    "new_path = os.path.join(target_directory, str(today))\n",
    "if (os.path.isdir(target_directory)):\n",
    "    if not os.path.exists(new_path):\n",
    "        os.mkdir(new_path)\n",
    "    os.rename(\n",
    "        os.path.join(current_directory, filename_to_archive),\n",
    "        os.path.join(new_path, new_filename))"
   ]
  }
 ],
 "metadata": {
  "kernelspec": {
   "display_name": "Python 3",
   "language": "python",
   "name": "python3"
  },
  "language_info": {
   "codemirror_mode": {
    "name": "ipython",
    "version": 3
   },
   "file_extension": ".py",
   "mimetype": "text/x-python",
   "name": "python",
   "nbconvert_exporter": "python",
   "pygments_lexer": "ipython3",
   "version": "3.6.9"
  }
 },
 "nbformat": 4,
 "nbformat_minor": 4
}
